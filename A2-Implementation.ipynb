{
 "cells": [
  {
   "cell_type": "code",
   "execution_count": 1,
   "id": "4a3b9e95",
   "metadata": {
    "execution": {
     "iopub.execute_input": "2025-04-09T19:02:06.333179Z",
     "iopub.status.busy": "2025-04-09T19:02:06.332815Z",
     "iopub.status.idle": "2025-04-09T19:02:10.615895Z",
     "shell.execute_reply": "2025-04-09T19:02:10.614883Z"
    },
    "papermill": {
     "duration": 4.288137,
     "end_time": "2025-04-09T19:02:10.617713",
     "exception": false,
     "start_time": "2025-04-09T19:02:06.329576",
     "status": "completed"
    },
    "tags": []
   },
   "outputs": [],
   "source": [
    "from torch.utils.data import DataLoader, Subset\n",
    "train_data = DataLoader(\"/kaggle/input/inaturalist/inaturalist_12K/train\")\n",
    "val_data = DataLoader(\"/kaggle/input/inaturalist/inaturalist_12K/val\")"
   ]
  },
  {
   "cell_type": "code",
   "execution_count": 2,
   "id": "1a381311",
   "metadata": {
    "execution": {
     "iopub.execute_input": "2025-04-09T19:02:10.622685Z",
     "iopub.status.busy": "2025-04-09T19:02:10.622307Z",
     "iopub.status.idle": "2025-04-09T19:02:15.302950Z",
     "shell.execute_reply": "2025-04-09T19:02:15.302016Z"
    },
    "papermill": {
     "duration": 4.684688,
     "end_time": "2025-04-09T19:02:15.304668",
     "exception": false,
     "start_time": "2025-04-09T19:02:10.619980",
     "status": "completed"
    },
    "tags": []
   },
   "outputs": [
    {
     "name": "stdout",
     "output_type": "stream",
     "text": [
      "Requirement already satisfied: torch in /usr/local/lib/python3.10/dist-packages (2.5.1+cu121)\r\n",
      "Requirement already satisfied: filelock in /usr/local/lib/python3.10/dist-packages (from torch) (3.17.0)\r\n",
      "Requirement already satisfied: typing-extensions>=4.8.0 in /usr/local/lib/python3.10/dist-packages (from torch) (4.12.2)\r\n",
      "Requirement already satisfied: networkx in /usr/local/lib/python3.10/dist-packages (from torch) (3.4.2)\r\n",
      "Requirement already satisfied: jinja2 in /usr/local/lib/python3.10/dist-packages (from torch) (3.1.4)\r\n",
      "Requirement already satisfied: fsspec in /usr/local/lib/python3.10/dist-packages (from torch) (2024.12.0)\r\n",
      "Requirement already satisfied: sympy==1.13.1 in /usr/local/lib/python3.10/dist-packages (from torch) (1.13.1)\r\n",
      "Requirement already satisfied: mpmath<1.4,>=1.1.0 in /usr/local/lib/python3.10/dist-packages (from sympy==1.13.1->torch) (1.3.0)\r\n",
      "Requirement already satisfied: MarkupSafe>=2.0 in /usr/local/lib/python3.10/dist-packages (from jinja2->torch) (3.0.2)\r\n"
     ]
    }
   ],
   "source": [
    "!pip install torch\n"
   ]
  },
  {
   "cell_type": "code",
   "execution_count": 3,
   "id": "22dacfd5",
   "metadata": {
    "execution": {
     "iopub.execute_input": "2025-04-09T19:02:15.309243Z",
     "iopub.status.busy": "2025-04-09T19:02:15.309008Z",
     "iopub.status.idle": "2025-04-09T19:02:27.496202Z",
     "shell.execute_reply": "2025-04-09T19:02:27.495129Z"
    },
    "papermill": {
     "duration": 12.191473,
     "end_time": "2025-04-09T19:02:27.498065",
     "exception": false,
     "start_time": "2025-04-09T19:02:15.306592",
     "status": "completed"
    },
    "tags": []
   },
   "outputs": [],
   "source": [
    "import numpy as np\n",
    "import wandb\n",
    "import torch\n",
    "import torch.nn as nn\n",
    "import torch.nn.functional as F\n",
    "from torchvision import datasets, transforms #To manage dataset\n",
    "from torch.utils.data import DataLoader, Subset #To load and transform data\n",
    "import pytorch_lightning as pl\n",
    "from pytorch_lightning.loggers import WandbLogger # As pytorch.lightning allows direct logging into wandb\n",
    "#from sklearn.model_selection import StratifiedShuffleSplit '''Check with TAs'''\n",
    "\n",
    "class CNN(pl.LightningModule):\n",
    "    def __init__(self,config):\n",
    "        super().__init__() #using LightningModule to assign hyperparams\n",
    "        self.save_hyperparameters()\n",
    "\n",
    "        self.conv_blk == nn.ModuleList()\n",
    "        input_ch = 3 #RGB images\n",
    "        current_filters = config.filter_base #Filter Number & Strategies from sweep config\n",
    "        for i in range(5): #Create five consecutive convolution blocks with configurable strategies\n",
    "            self.conv_blk.append(\n",
    "                nn.Conv2d(input_ch, current_filters, kernel_size = config.filter_size, padding = filter.size//2) #Use filter size from sweep config, padding = floor(0.5*filter)\n",
    "            )\n",
    "            if config.batch_norm==True:\n",
    "                self.conv_blk.append(nn.BatchNorm2d(current_filters))\n",
    "            #Define organization logic for filters in subsequent layers from sweep config metric filter_org\n",
    "            if config.filter_org == \"double\":\n",
    "                input_ch = current_filters\n",
    "                current_filter *= 2 #Double number of filters\n",
    "            elif config.filter_org == \"halve\":\n",
    "                input_ch = current_filters\n",
    "                current_filters = max(8, current_filters//2) #Ensuring a minimum of 8 filters\n",
    "            else: #No filter strategies\n",
    "                input_ch = current_filters\n",
    "        #Calculate what the dimensions for the dense layer inputs would turn out to be\n",
    "        with torch.no_grad():\n",
    "            dummy_layer = torch.randn(1,3,224,224) #mimic input\n",
    "            for layer in self.conv_blk:\n",
    "                if isinstance(layer,nn.Conv2d): #Whenever convolution layer \n",
    "                    dummy_layer = F.max_pool2d(F.relu(layer(dummy_layer)),2) #MaxPool activation function layer after convolutions\n",
    "                    self.dense_input = dummy_layer.view(1,-1).size(1) #Reshape to find size\n",
    "        #Dense Connections. Linear->Dropout->Activation->Output\n",
    "        self.dense = nn.Sequential(\n",
    "            nn.Linear(self.dense_input,config.dense_neurons),\n",
    "            nn.Dropout(config.dropout),\n",
    "            self.actv(config.dense_actv),\n",
    "            nn.Linear(config.dense_neurons, 10)\n",
    "        )\n",
    "        def actv(self,name): #Choosing activation func\n",
    "            actv={\n",
    "                \"relu\": nn.ReLU(),\n",
    "                \"gelu\": nn.GELU(),\n",
    "                \"silu\": nn.SiLU(),\n",
    "                \"mish\": nn.Mish()\n",
    "            }\n",
    "            return actv[name.lower()]\n",
    "\n",
    "        def forward(self,x): #Explicit Lightning Module Method Forward\n",
    "            for layer in self.conv_blocks:\n",
    "                if isinstance(layer, nn.Conv2d):\n",
    "                    x = F.max_pool2d(self.actv(self.hparams.config.conv_actv)(layer(x)), 2)\n",
    "                else:\n",
    "                    x = layer(x)\n",
    "                x = x.view(x.size(0),-1) #Flatten\n",
    "                return self.dense(x) #Invoke Dense layers\n",
    "\n",
    "        def training_step(self,batch,batch_idx):\n",
    "            x, y = batch\n",
    "            y_hat = self(x)\n",
    "            loss = F.cross_entropy(y_hat,y)\n",
    "            self.log(\"train_loss\",loss)\n",
    "            return loss\n",
    "\n",
    "        def validation_step(self, batch, batch_idx):\n",
    "            x, y = batch\n",
    "            y_hat = self(x)\n",
    "            loss = F.cross_entropy(y_hat,y)\n",
    "            acc = (y_hat.argmax(dim=1) == y).float().mean() #Mean fractional accuracy\n",
    "            self.log(\"val_loss\",loss)\n",
    "            self.log(\"val_acc\", acc)\n",
    "            return {\"val_loss\":loss, \"val_acc\":acc}\n",
    "\n",
    "        def configure_optimizers(self): #Another pl method. We use Adam optim\n",
    "            return torch.optim.Adam(self.parameters(), lr = self.hparams.config.lr)\n",
    "                    \n",
    "\n",
    "\n"
   ]
  }
 ],
 "metadata": {
  "kaggle": {
   "accelerator": "none",
   "dataSources": [
    {
     "datasetId": 7065602,
     "sourceId": 11298830,
     "sourceType": "datasetVersion"
    }
   ],
   "isGpuEnabled": false,
   "isInternetEnabled": true,
   "language": "python",
   "sourceType": "notebook"
  },
  "kernelspec": {
   "display_name": "Python 3",
   "language": "python",
   "name": "python3"
  },
  "language_info": {
   "codemirror_mode": {
    "name": "ipython",
    "version": 3
   },
   "file_extension": ".py",
   "mimetype": "text/x-python",
   "name": "python",
   "nbconvert_exporter": "python",
   "pygments_lexer": "ipython3",
   "version": "3.10.12"
  },
  "papermill": {
   "default_parameters": {},
   "duration": 26.530299,
   "end_time": "2025-04-09T19:02:30.345283",
   "environment_variables": {},
   "exception": null,
   "input_path": "__notebook__.ipynb",
   "output_path": "__notebook__.ipynb",
   "parameters": {},
   "start_time": "2025-04-09T19:02:03.814984",
   "version": "2.6.0"
  }
 },
 "nbformat": 4,
 "nbformat_minor": 5
}
