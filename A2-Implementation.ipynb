{
 "cells": [
  {
   "cell_type": "code",
   "execution_count": 1,
   "id": "de0364fc",
   "metadata": {
    "execution": {
     "iopub.execute_input": "2025-04-06T18:31:13.665667Z",
     "iopub.status.busy": "2025-04-06T18:31:13.665267Z",
     "iopub.status.idle": "2025-04-06T18:31:17.475814Z",
     "shell.execute_reply": "2025-04-06T18:31:17.474939Z"
    },
    "papermill": {
     "duration": 3.815796,
     "end_time": "2025-04-06T18:31:17.477712",
     "exception": false,
     "start_time": "2025-04-06T18:31:13.661916",
     "status": "completed"
    },
    "tags": []
   },
   "outputs": [],
   "source": [
    "from torch.utils.data import DataLoader, Subset\n",
    "train_data = DataLoader(\"/kaggle/input/inaturalist/inaturalist_12K/train\")\n",
    "val_data = DataLoader(\"/kaggle/input/inaturalist/inaturalist_12K/val\")"
   ]
  },
  {
   "cell_type": "code",
   "execution_count": 2,
   "id": "70fed6f3",
   "metadata": {
    "execution": {
     "iopub.execute_input": "2025-04-06T18:31:17.483001Z",
     "iopub.status.busy": "2025-04-06T18:31:17.482544Z",
     "iopub.status.idle": "2025-04-06T18:31:22.526752Z",
     "shell.execute_reply": "2025-04-06T18:31:22.525579Z"
    },
    "papermill": {
     "duration": 5.04929,
     "end_time": "2025-04-06T18:31:22.529313",
     "exception": false,
     "start_time": "2025-04-06T18:31:17.480023",
     "status": "completed"
    },
    "tags": []
   },
   "outputs": [
    {
     "name": "stdout",
     "output_type": "stream",
     "text": [
      "Requirement already satisfied: torch in /usr/local/lib/python3.10/dist-packages (2.5.1+cu121)\r\n",
      "Requirement already satisfied: filelock in /usr/local/lib/python3.10/dist-packages (from torch) (3.17.0)\r\n",
      "Requirement already satisfied: typing-extensions>=4.8.0 in /usr/local/lib/python3.10/dist-packages (from torch) (4.12.2)\r\n",
      "Requirement already satisfied: networkx in /usr/local/lib/python3.10/dist-packages (from torch) (3.4.2)\r\n",
      "Requirement already satisfied: jinja2 in /usr/local/lib/python3.10/dist-packages (from torch) (3.1.4)\r\n",
      "Requirement already satisfied: fsspec in /usr/local/lib/python3.10/dist-packages (from torch) (2024.12.0)\r\n",
      "Requirement already satisfied: sympy==1.13.1 in /usr/local/lib/python3.10/dist-packages (from torch) (1.13.1)\r\n",
      "Requirement already satisfied: mpmath<1.4,>=1.1.0 in /usr/local/lib/python3.10/dist-packages (from sympy==1.13.1->torch) (1.3.0)\r\n",
      "Requirement already satisfied: MarkupSafe>=2.0 in /usr/local/lib/python3.10/dist-packages (from jinja2->torch) (3.0.2)\r\n"
     ]
    }
   ],
   "source": [
    "!pip install torch\n"
   ]
  },
  {
   "cell_type": "code",
   "execution_count": 3,
   "id": "b2cb9336",
   "metadata": {
    "execution": {
     "iopub.execute_input": "2025-04-06T18:31:22.535351Z",
     "iopub.status.busy": "2025-04-06T18:31:22.534950Z",
     "iopub.status.idle": "2025-04-06T18:31:36.205052Z",
     "shell.execute_reply": "2025-04-06T18:31:36.203724Z"
    },
    "papermill": {
     "duration": 13.675432,
     "end_time": "2025-04-06T18:31:36.207207",
     "exception": false,
     "start_time": "2025-04-06T18:31:22.531775",
     "status": "completed"
    },
    "tags": []
   },
   "outputs": [],
   "source": [
    "import numpy as np\n",
    "import wandb\n",
    "import torch\n",
    "import torch.nn as nn\n",
    "import torch.nn.functional as F\n",
    "from torchvision import datasets, transforms #To manage dataset\n",
    "from torch.utils.data import DataLoader, Subset #To load and transform data\n",
    "import pytorch_lightning as pl\n",
    "from pytorch_lightning.loggers import WandbLogger # As pytorch.lightning allows direct logging into wandb\n",
    "#from sklearn.model_selection import StratifiedShuffleSplit '''Check with TAs'''\n",
    "\n",
    "class CNN(pl.LightningModule):\n",
    "    def __init__(self,config):\n",
    "        super().__init__() #using LightningModule to assign hyperparams\n",
    "        self.save_hyperparameters()\n",
    "\n",
    "        self.conv_blk == nn.ModuleList()\n",
    "        input_ch = 3 #RGB images\n",
    "        current_filters = config.filter_base #Filter Number & Strategies from sweep config\n",
    "        for i in range(5): #Create five consecutive convolution blocks with configurable strategies\n",
    "            self.conv_blk.append(\n",
    "                nn.Conv2d(input_ch, current_filters, kernel_size = config.filter_size, padding = filter.size//2) #Use filter size from sweep config, padding = floor(0.5*filter)\n",
    "            )\n",
    "            if config.batch_norm==True:\n",
    "                self.conv_blk.append(nn.BatchNorm2d(current_filters))\n",
    "            #Define organization logic for filters in subsequent layers from sweep config metric filter_org\n",
    "            if config.filter_org == \"double\":\n",
    "                input_ch = current_filters\n",
    "                current_filter *= 2 #Double number of filters\n",
    "            elif config.filter_org == \"halve\":\n",
    "                input_ch = current_filters\n",
    "                current_filters = max(8, current_filters//2) #Ensuring a minimum of 8 filters\n",
    "            else: #No filter strategies\n",
    "                input_ch = current_filters\n",
    "        #Calculate what the dimensions for the dense layer inputs would turn out to be\n",
    "        with torch.no_grad():\n",
    "            dummy_layer = torch.randn(1,3,224,224) #mimic input\n",
    "            for layer in self.conv_blk:\n",
    "                if isinstance(layer,nn.Conv2d): #Whenever convolution layer \n",
    "                    dummy_layer = F.max_pool2d(F.relu(layer(dummy_layer)),2) #MaxPool activation function layer after convolutions\n",
    "                    self.dense_input = dummy_layer.view(1,-1).size(1) #Reshape to find size\n",
    "\n",
    "\n",
    "\n"
   ]
  }
 ],
 "metadata": {
  "kaggle": {
   "accelerator": "none",
   "dataSources": [
    {
     "datasetId": 7065602,
     "sourceId": 11298830,
     "sourceType": "datasetVersion"
    }
   ],
   "isGpuEnabled": false,
   "isInternetEnabled": true,
   "language": "python",
   "sourceType": "notebook"
  },
  "kernelspec": {
   "display_name": "Python 3",
   "language": "python",
   "name": "python3"
  },
  "language_info": {
   "codemirror_mode": {
    "name": "ipython",
    "version": 3
   },
   "file_extension": ".py",
   "mimetype": "text/x-python",
   "name": "python",
   "nbconvert_exporter": "python",
   "pygments_lexer": "ipython3",
   "version": "3.10.12"
  },
  "papermill": {
   "default_parameters": {},
   "duration": 28.607448,
   "end_time": "2025-04-06T18:31:39.508151",
   "environment_variables": {},
   "exception": null,
   "input_path": "__notebook__.ipynb",
   "output_path": "__notebook__.ipynb",
   "parameters": {},
   "start_time": "2025-04-06T18:31:10.900703",
   "version": "2.6.0"
  }
 },
 "nbformat": 4,
 "nbformat_minor": 5
}
